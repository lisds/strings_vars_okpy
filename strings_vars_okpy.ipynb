{
 "cells": [
  {
   "cell_type": "markdown",
   "id": "fd63a48b",
   "metadata": {},
   "source": [
    "# OKpy, strings and variables"
   ]
  },
  {
   "cell_type": "markdown",
   "id": "307937d0",
   "metadata": {},
   "source": [
    "## Introducing OKpy\n",
    "\n",
    "This notebook has tests for most answers that use the OKpy system. OKpy was\n",
    "written by [John Denero](http://denero.org) and others in the data science\n",
    "team at Berkeley.\n",
    "\n",
    "To get started, run the cell below, to load the OKpy testing machinery:"
   ]
  },
  {
   "cell_type": "code",
   "execution_count": null,
   "id": "16e03817",
   "metadata": {},
   "outputs": [],
   "source": [
    "# Load the OKpy test library and tests.\n",
    "from client.api.notebook import Notebook\n",
    "ok = Notebook('strings_vars_okpy.ok')"
   ]
  },
  {
   "cell_type": "markdown",
   "id": "4ff06dd1",
   "metadata": {},
   "source": [
    "In general, don't forget to execute the cells in the notebook, that we have\n",
    "written for you.   If you see an error about `ok` not being defined, further\n",
    "down in this notebook, then come back up to this cell above, and execute it.\n",
    "\n",
    "To give you an example of how this works, here's a question where you have to\n",
    "set the variable `x` to have the value 3.  Don't do that yet though. First run\n",
    "the cell below, without making any changes."
   ]
  },
  {
   "cell_type": "code",
   "execution_count": null,
   "id": "648773df",
   "metadata": {},
   "outputs": [],
   "source": [
    "#- In a bit, change the 0 to a 3.  Don't do that now though.\n",
    "x = 0"
   ]
  },
  {
   "cell_type": "markdown",
   "id": "2995faf9",
   "metadata": {},
   "source": [
    "Now run this cell.  It runs a series of tests on the variable `x`, to see if\n",
    "you've got the right answer.  It will usually check for common problems, and\n",
    "give you some hints.  In this case, of you haven't changed the value above yet,\n",
    "it should tell you.  Scroll through the messages you get to see any hints."
   ]
  },
  {
   "cell_type": "code",
   "execution_count": null,
   "id": "b0efb020",
   "metadata": {},
   "outputs": [],
   "source": [
    "# Run this cell to test the value you defined above.\n",
    "_ = ok.grade('q_defining_x')"
   ]
  },
  {
   "cell_type": "markdown",
   "id": "53e6ea49",
   "metadata": {},
   "source": [
    "If you got an error saying something like `name 'ok' is not defined`, remember\n",
    "to go back and run the first cell in this notebook.\n",
    "\n",
    "Now go back to the cell defining `x` and change the value of `x` to 3.  *Re-run\n",
    "the cell* so `x` now has the value of 3.   Then re-run the test above.  It\n",
    "should pass.\n"
   ]
  },
  {
   "cell_type": "markdown",
   "id": "d62f1c72",
   "metadata": {},
   "source": [
    "## About this exercise"
   ]
  },
  {
   "cell_type": "markdown",
   "id": "446fbf62",
   "metadata": {},
   "source": [
    "This exercise is an edited and extended version of a lab from [the Berkeley\n",
    "data science course](https://github.com/data-8/data8assets) with thanks.  If\n",
    "you make a new version of this original, please note that this exercise has a\n",
    "[CC-BY-NC license](http://creativecommons.org/licenses/by-nc/4.0/); remember to\n",
    "give attribution to the original authors from the repository above.\n"
   ]
  },
  {
   "cell_type": "markdown",
   "id": "58def385",
   "metadata": {},
   "source": [
    "## Getting started"
   ]
  },
  {
   "cell_type": "markdown",
   "id": "7a19a6f5",
   "metadata": {},
   "source": [
    "We have used Python to manipulate numbers.  There's a lot more to life than\n",
    "numbers, so Python lets us represent many other types of data in programs.\n",
    "\n",
    "In this lab, you'll go over the way that Python represents and manipulates\n",
    "another fundamental type of data: text. A piece of text is called\n",
    "a *string* in Python.\n",
    "\n",
    "You'll also see how to invoke *methods*.  A method is very similar to\n",
    "a function.  It just looks a little different because it's tied to\n",
    "a particular piece of data (like a piece of text or a number).\n"
   ]
  },
  {
   "cell_type": "markdown",
   "id": "dd9af10f",
   "metadata": {},
   "source": [
    "## 1. Review: The building blocks of Python code\n",
    "\n",
    "The two building blocks of Python code are *expressions* and *statements*.  An\n",
    "**expression** is a piece of code that\n",
    "\n",
    "* is self-contained, meaning it would make sense to write it on a line by\n",
    "  itself, and\n",
    "* usually has a value."
   ]
  },
  {
   "cell_type": "markdown",
   "id": "3d5a2af3",
   "metadata": {},
   "source": [
    "Here are two expressions that both evaluate to 3:"
   ]
  },
  {
   "cell_type": "code",
   "execution_count": null,
   "id": "a6ac0816",
   "metadata": {},
   "outputs": [],
   "source": [
    "3"
   ]
  },
  {
   "cell_type": "code",
   "execution_count": null,
   "id": "dabaf01e",
   "metadata": {},
   "outputs": [],
   "source": [
    "5 - 2"
   ]
  },
  {
   "cell_type": "markdown",
   "id": "e12d74cb",
   "metadata": {},
   "source": [
    "One important form of an expression is the **call expression**, which first\n",
    "names a function and then describes its arguments. The function returns some\n",
    "value, based on its arguments. Some important mathematical functions are\n",
    "\n",
    "| Function | Description                                                   |\n",
    "|----------|---------------------------------------------------------------|\n",
    "| `abs`    | Returns the absolute value of its argument                    |\n",
    "| `max`    | Returns the maximum of all its arguments                      |\n",
    "| `min`    | Returns the minimum of all its arguments                      |\n",
    "| `pow`    | Raises its first argument to the power of its second argument |\n",
    "| `round`  | Round its argument to the nearest integer                     |\n",
    "\n",
    "Here are two call expressions that both evaluate to 3"
   ]
  },
  {
   "cell_type": "code",
   "execution_count": null,
   "id": "fd66a3f6",
   "metadata": {},
   "outputs": [],
   "source": [
    "abs(2 - 5)"
   ]
  },
  {
   "cell_type": "code",
   "execution_count": null,
   "id": "f54acf61",
   "metadata": {},
   "outputs": [],
   "source": [
    "max(round(2.8), min(pow(2, 10), -1 * pow(2, 10)))"
   ]
  },
  {
   "cell_type": "markdown",
   "id": "f69469a9",
   "metadata": {},
   "source": [
    "All these expressions but the first are **compound expressions**, meaning that\n",
    "they are actually combinations of several smaller expressions.  `2 + 3`\n",
    "combines the expressions `2` and `3` by addition.  In this case, `2` and `3`\n",
    "are called **subexpressions** because they're expressions that are part of\n",
    "a larger expression.\n",
    "\n",
    "A **statement** is a whole line of code.  Some statements are just expressions.\n",
    "The expressions listed above are examples.\n",
    "\n",
    "Other statements *make something happen* rather than *having a value*.  After\n",
    "they are run, something in the world has changed.  For example, an **assignment\n",
    "statement** assigns a value to a name.\n",
    "\n",
    "A good way to think about this is that we're **evaluating the right-hand side** of the equals sign and **assigning it to the left-hand side**. Here are some assignment statements:"
   ]
  },
  {
   "cell_type": "code",
   "execution_count": null,
   "id": "efff38a4",
   "metadata": {},
   "outputs": [],
   "source": [
    "height = 1.3"
   ]
  },
  {
   "cell_type": "code",
   "execution_count": null,
   "id": "329f9d8b",
   "metadata": {},
   "outputs": [],
   "source": [
    "the_number_five = abs(-5)"
   ]
  },
  {
   "cell_type": "code",
   "execution_count": null,
   "id": "ee1c0581",
   "metadata": {},
   "outputs": [],
   "source": [
    "absolute_height_difference = abs(height - 1.688)"
   ]
  },
  {
   "cell_type": "markdown",
   "id": "6766b9e2",
   "metadata": {},
   "source": [
    "## 2. Text\n",
    "\n",
    "Programming doesn't just concern numbers. Text is one of the most common types\n",
    "of values used in programs.\n",
    "\n",
    "A snippet of text is represented by a **string value** in Python. The word\n",
    "\"*string*\" is a programming term for a sequence of characters. A string might\n",
    "contain a single character, a word, a sentence, or a whole book.\n",
    "\n",
    "To distinguish text data from actual code, we demarcate strings by putting\n",
    "quotation marks around them. Single quotes (`'`) and double quotes (`\"`) are\n",
    "both valid, but the types of opening and closing quotation marks must match.\n",
    "The contents can be any sequence of characters, including numbers and symbols.\n",
    "\n",
    "We've seen strings before in `print` statements.  Below, two different strings\n",
    "are passed as arguments to the `print` function."
   ]
  },
  {
   "cell_type": "code",
   "execution_count": null,
   "id": "6224b3e8",
   "metadata": {},
   "outputs": [],
   "source": [
    "print(\"I <3\", 'Data Science')"
   ]
  },
  {
   "cell_type": "markdown",
   "id": "25b7504d",
   "metadata": {},
   "source": [
    "Just like names can be given to numbers, names can be given to string values.\n",
    "The names and strings aren't required to be similar in any way. Any name can be\n",
    "assigned to any string."
   ]
  },
  {
   "cell_type": "code",
   "execution_count": null,
   "id": "a246aef9",
   "metadata": {},
   "outputs": [],
   "source": [
    "one = 'two'\n",
    "plus = '*'\n",
    "print(one, plus, one)"
   ]
  },
  {
   "cell_type": "markdown",
   "id": "8497650b",
   "metadata": {},
   "source": [
    "**Question 2.1.** Yuri Gagarin was the first person to travel through outer space.  When he emerged from his capsule upon landing on Earth, he [reportedly](https://en.wikiquote.org/wiki/Yuri_Gagarin) had the following conversation with a woman and girl who saw the landing:\n",
    "\n",
    "> The woman asked: \"Can it be that you have come from outer space?\"\n",
    "> Gagarin replied: \"As a matter of fact, I have!\"\n",
    "\n",
    "The cell below contains unfinished code.  Fill in the `...`s so that it prints\n",
    "out this conversation *exactly* as it appears above."
   ]
  },
  {
   "cell_type": "code",
   "execution_count": null,
   "id": "6eb63609",
   "metadata": {},
   "outputs": [],
   "source": [
    "woman_asking = ...\n",
    "woman_quote = '\"Can it be that you have come from outer space?\"'\n",
    "gagarin_reply = 'Gagarin replied:'\n",
    "gagarin_quote = ...\n",
    "print(woman_asking, woman_quote)\n",
    "print(gagarin_reply, gagarin_quote)"
   ]
  },
  {
   "cell_type": "code",
   "execution_count": null,
   "id": "5599f92d",
   "metadata": {},
   "outputs": [],
   "source": [
    "_ = ok.grade('q21')"
   ]
  },
  {
   "cell_type": "markdown",
   "id": "ad610e14",
   "metadata": {},
   "source": [
    "### 2.1. String Methods"
   ]
  },
  {
   "cell_type": "markdown",
   "id": "4355d665",
   "metadata": {},
   "source": [
    "Strings can be transformed using **methods**, which are functions that involve\n",
    "an existing string and some other arguments. One example is the `replace`\n",
    "method, which replaces all instances of some part of a string with some\n",
    "alternative.\n",
    "\n",
    "A method is invoked on a string by placing a `.` after the string value, then\n",
    "the name of the method, and finally parentheses containing the arguments.\n",
    "Here's a sketch, where the `<` and `>` symbols aren't part of the syntax; they\n",
    "just mark the boundaries of sub-expressions.  A call expression that calls\n",
    "a method on a string has the following structure:\n",
    "\n",
    "    <expression that evaluates to a string>.<method name>(<argument>, <argument>, ...)\n",
    "\n",
    "**Try to predict the output of these examples**, then execute them."
   ]
  },
  {
   "cell_type": "code",
   "execution_count": null,
   "id": "5167c160",
   "metadata": {},
   "outputs": [],
   "source": [
    "# Replace one letter\n",
    "'Hello'.replace('o', 'a')"
   ]
  },
  {
   "cell_type": "code",
   "execution_count": null,
   "id": "4e142e98",
   "metadata": {},
   "outputs": [],
   "source": [
    "# Replace a sequence of letters, which appears twice\n",
    "'matchmaker'.replace('ma', 'hi')"
   ]
  },
  {
   "cell_type": "markdown",
   "id": "25b4dca0",
   "metadata": {},
   "source": [
    "Once a name is bound to a string value, methods can be invoked on that name as\n",
    "well. The name is still bound to the original string, so a new name is needed\n",
    "to capture the result."
   ]
  },
  {
   "cell_type": "code",
   "execution_count": null,
   "id": "c1ce271a",
   "metadata": {},
   "outputs": [],
   "source": [
    "sharp = 'edged'\n",
    "hot = sharp.replace('ed', 'ma')\n",
    "print('sharp:', sharp)\n",
    "print('hot:', hot)"
   ]
  },
  {
   "cell_type": "markdown",
   "id": "bb225496",
   "metadata": {},
   "source": [
    "You can call functions on the results of other functions.  For example,"
   ]
  },
  {
   "cell_type": "code",
   "execution_count": null,
   "id": "d2fc363e",
   "metadata": {},
   "outputs": [],
   "source": [
    "max(abs(-5), abs(3))"
   ]
  },
  {
   "cell_type": "markdown",
   "id": "1171afe0",
   "metadata": {},
   "source": [
    "has value 5.  Similarly, you can invoke methods on the results of other method\n",
    "(or function) calls."
   ]
  },
  {
   "cell_type": "code",
   "execution_count": null,
   "id": "ee0610a7",
   "metadata": {},
   "outputs": [],
   "source": [
    "# Calling replace on the output of another call to\n",
    "# replace\n",
    "'train'.replace('t', 'ing').replace('in', 'de')"
   ]
  },
  {
   "cell_type": "markdown",
   "id": "45ac0823",
   "metadata": {},
   "source": [
    "Here's a picture of how Python evaluates a \"chained\" method call like that:\n",
    "\n",
    "<img src=\"chaining_method_calls.jpg\"/>\n",
    "\n",
    "**Question 2.1.1.** Assign strings to the names `you` and `this` so that the\n",
    "final expression evaluates to a 10-letter English word with three double\n",
    "letters in a row.\n",
    "\n",
    "This isn't the right answer, but the word 'tattooee' is an 8 letter example of\n",
    "such a word because it has double 't' followed by double 'o' followed by double\n",
    "'e'.\n",
    "\n",
    "*Hint 1:* Remember, having a piece of paper next to the computer is useful.\n",
    "*When you get stuck, go to the paper, and write out the problem.  Reason about\n",
    "*the solution on the piece of paper.\n",
    "\n",
    "*Hint 2:* After you guess at some values for `you` and `this`, it's helpful to\n",
    "*see* the value of the variable `the`.  Try printing the value of `the` by\n",
    "adding a line like this:\n",
    "\n",
    "```python\n",
    "print(the)\n",
    "```\n",
    "\n",
    "*Hint 3:* Run the tests if you're stuck.  They'll often give you help."
   ]
  },
  {
   "cell_type": "code",
   "execution_count": null,
   "id": "69f6deb8",
   "metadata": {},
   "outputs": [],
   "source": [
    "you = ...\n",
    "this = ...\n",
    "a = 'beeper'\n",
    "the = a.replace('p', you)\n",
    "# This last line is a bare expression.  The notebook will show the result.\n",
    "the.replace('bee', this)"
   ]
  },
  {
   "cell_type": "code",
   "execution_count": null,
   "id": "74174d76",
   "metadata": {},
   "outputs": [],
   "source": [
    "_ = ok.grade('q211')"
   ]
  },
  {
   "cell_type": "markdown",
   "id": "8f279f60",
   "metadata": {},
   "source": [
    "Other string methods do not take any arguments at all, because the original\n",
    "string is all that's needed to compute the result. In this case, parentheses\n",
    "are still needed, but there's nothing in between the parentheses. Here are some\n",
    "methods that work that way:\n",
    "\n",
    "| Method name | Value |\n",
    "|-------------|-------|\n",
    "| `lower` | a lowercased version of the string |\n",
    "| `upper` | an uppercased version of the string |\n",
    "| `capitalize`| a version with the first letter capitalized |\n",
    "| `title` | a version with the first letter of every word capitalized |\n"
   ]
  },
  {
   "cell_type": "code",
   "execution_count": null,
   "id": "e02e6a09",
   "metadata": {},
   "outputs": [],
   "source": [
    "'unIverSITy of caliFORnia'.title()"
   ]
  },
  {
   "cell_type": "markdown",
   "id": "5377e620",
   "metadata": {},
   "source": [
    "All these string methods are useful, but most programmers don't memorize their\n",
    "names or how to use them.  In the \"real world,\" people usually just search the\n",
    "internet for documentation and examples. A complete [list of string\n",
    "methods](https://docs.python.org/3/library/stdtypes.html#string-methods)\n",
    "appears in the Python language documentation. [Stack\n",
    "Overflow](http://stackoverflow.com) has a huge database of answered questions\n",
    "that often demonstrate how to use these methods to achieve various ends.\n"
   ]
  },
  {
   "cell_type": "markdown",
   "id": "92d5e5fa",
   "metadata": {},
   "source": [
    "### 2.2. Converting to and from Strings"
   ]
  },
  {
   "cell_type": "markdown",
   "id": "086efff3",
   "metadata": {},
   "source": [
    "Strings and numbers are different *types* of values, even when a string contains the digits of a number. For example, evaluating the following cell causes an error because an integer cannot be added to a string."
   ]
  },
  {
   "cell_type": "code",
   "execution_count": null,
   "id": "51fbe41e",
   "metadata": {
    "tags": [
     "raises-exception"
    ]
   },
   "outputs": [],
   "source": [
    "8 + \"8\""
   ]
  },
  {
   "cell_type": "markdown",
   "id": "3f1dbc5f",
   "metadata": {},
   "source": [
    "However, there are built-in functions to convert numbers to strings and strings to numbers.\n",
    "\n",
    "*   `int`:   Converts a string of digits to an integer (\"int\") value\n",
    "*   `float`: Converts a string of digits, perhaps with a decimal point, to\n",
    "    a decimal (\"float\") value\n",
    "*   `str`:   Converts any value to a string\n",
    "\n",
    "**Try to predict what the following cell will evaluate to**, then evaluate it."
   ]
  },
  {
   "cell_type": "code",
   "execution_count": null,
   "id": "4d88ed59",
   "metadata": {},
   "outputs": [],
   "source": [
    "8 + int(\"8\")"
   ]
  },
  {
   "cell_type": "markdown",
   "id": "c93b3b97",
   "metadata": {},
   "source": [
    "Suppose you're writing a program that looks for dates in a text, and you want\n",
    "your program to find the amount of time that elapsed between two years it has\n",
    "identified.  It doesn't make sense to subtract two texts, but you can first\n",
    "convert the text containing the years into numbers.\n",
    "\n",
    "**Question 2.2.1.** Finish the code below to compute the number of years that\n",
    "elapsed between `one_year` and `another_year`.  Don't just write the numbers\n",
    "`1618` and `1648` (or `30`); use a conversion function to turn the given text\n",
    "data into numbers."
   ]
  },
  {
   "cell_type": "code",
   "execution_count": null,
   "id": "e18a7676",
   "metadata": {},
   "outputs": [],
   "source": [
    "# Some text data:\n",
    "one_year = \"1618\"\n",
    "another_year = \"1648\"\n",
    "\n",
    "# Complete the next line.  Note that we can't just write:\n",
    "#   another_year - one_year\n",
    "# If you don't see why, try seeing what happens when you\n",
    "# write that here.\n",
    "difference = ...\n",
    "difference"
   ]
  },
  {
   "cell_type": "code",
   "execution_count": null,
   "id": "a1552c09",
   "metadata": {},
   "outputs": [],
   "source": [
    "_ = ok.grade('q221')"
   ]
  },
  {
   "cell_type": "markdown",
   "id": "abe522c2",
   "metadata": {},
   "source": [
    "## 2.3. Strings as function arguments\n",
    "\n",
    "String values, like numbers, can be arguments to functions and can be returned\n",
    "by functions.  The function `len` takes a single string as its argument and\n",
    "returns the number of characters in the string: its **len**-gth.\n",
    "\n",
    "Note that it doesn't count *words*. `len(\"one small step for man\")` is 22, not\n",
    "5.\n",
    "\n",
    "**Question 2.3.1.**  Use `len` to find out the number of characters in the very\n",
    "long string in the next cell.  (It's the first sentence of the English\n",
    "translation of the French [Declaration of the Rights of\n",
    "Man](http://avalon.law.yale.edu/18th_century/rightsof.asp).)  The length of a\n",
    "string is the total number of characters in it, including things like spaces\n",
    "and punctuation.  Assign `sentence_length` to that number."
   ]
  },
  {
   "cell_type": "code",
   "execution_count": null,
   "id": "6e6a0797",
   "metadata": {},
   "outputs": [],
   "source": [
    "a_very_long_sentence = \"The representatives of the French people, organized as a National Assembly, believing that the ignorance, neglect, or contempt of the rights of man are the sole cause of public calamities and of the corruption of governments, have determined to set forth in a solemn declaration the natural, unalienable, and sacred rights of man, in order that this declaration, being constantly before all the members of the Social body, shall remind them continually of their rights and duties; in order that the acts of the legislative power, as well as those of the executive power, may be compared at any moment with the objects and purposes of all political institutions and may thus be more respected, and, lastly, in order that the grievances of the citizens, based hereafter upon simple and incontestable principles, shall tend to the maintenance of the constitution and redound to the happiness of all.\"\n",
    "sentence_length = ...\n",
    "sentence_length"
   ]
  },
  {
   "cell_type": "code",
   "execution_count": null,
   "id": "e3ff66f5",
   "metadata": {},
   "outputs": [],
   "source": [
    "_ = ok.grade('q231')"
   ]
  },
  {
   "cell_type": "markdown",
   "id": "9b6bc92d",
   "metadata": {},
   "source": [
    "## 3. Strings and variables\n",
    "\n",
    "As you have seen, strings are Python's way of storing bits of text.\n",
    "\n",
    "Variables have names, and it can be confusing when you are looking at a name,\n",
    "or a string.\n",
    "\n",
    "This part of the notebook is to practice the distinction between the two."
   ]
  },
  {
   "cell_type": "markdown",
   "id": "1f9527cb",
   "metadata": {},
   "source": [
    "Who isn't a Marvel fan? (that's rhetorical - if you aren't, please, just grin\n",
    "and bear it)."
   ]
  },
  {
   "cell_type": "markdown",
   "id": "a0132fc5",
   "metadata": {},
   "source": [
    "In the next cell, make a variable with name `title` that has the value\n",
    "`\"Captain \"`.  Notice that `\"Captain \"` is a string, and `title` is a variable\n",
    "name.  Notice too that the string has a space at the end."
   ]
  },
  {
   "cell_type": "code",
   "execution_count": null,
   "id": "345b3363",
   "metadata": {},
   "outputs": [],
   "source": [
    "title = ...\n",
    "# Show the variable contents\n",
    "title"
   ]
  },
  {
   "cell_type": "code",
   "execution_count": null,
   "id": "852f7f2e",
   "metadata": {},
   "outputs": [],
   "source": [
    "_ = ok.grade('q_captain')"
   ]
  },
  {
   "cell_type": "markdown",
   "id": "4622a201",
   "metadata": {},
   "source": [
    "Now make another string with name `person`, and value `\"Marvel\"`."
   ]
  },
  {
   "cell_type": "code",
   "execution_count": null,
   "id": "1fa22143",
   "metadata": {},
   "outputs": [],
   "source": [
    "person = ...\n",
    "# Show the value\n",
    "person"
   ]
  },
  {
   "cell_type": "code",
   "execution_count": null,
   "id": "2961b49a",
   "metadata": {},
   "outputs": [],
   "source": [
    "_ = ok.grade('q_marvel')"
   ]
  },
  {
   "cell_type": "markdown",
   "id": "ee0880c8",
   "metadata": {},
   "source": [
    "Now use `title` and `person` to make a new variable `character`, that has the\n",
    "value `\"Captain Marvel\"`:"
   ]
  },
  {
   "cell_type": "code",
   "execution_count": null,
   "id": "12458c24",
   "metadata": {},
   "outputs": [],
   "source": [
    "character = ...\n",
    "# Display the result\n",
    "character"
   ]
  },
  {
   "cell_type": "code",
   "execution_count": null,
   "id": "6f4363db",
   "metadata": {},
   "outputs": [],
   "source": [
    "_ = ok.grade('q_capt_marvel')"
   ]
  },
  {
   "cell_type": "markdown",
   "id": "4a6185dc",
   "metadata": {},
   "source": [
    "Here I'm trying to make a new variable `another_character` by appending the\n",
    "string `\"America\"` to the value of `title`, but there's a mistake.  Fix the\n",
    "mistake."
   ]
  },
  {
   "cell_type": "code",
   "execution_count": null,
   "id": "727f11dd",
   "metadata": {},
   "outputs": [],
   "source": [
    "another_character = title + America\n",
    "# Display the result\n",
    "another_character"
   ]
  },
  {
   "cell_type": "code",
   "execution_count": null,
   "id": "121618d4",
   "metadata": {},
   "outputs": [],
   "source": [
    "_ = ok.grade('q_capt_america')"
   ]
  },
  {
   "cell_type": "markdown",
   "id": "765f1c32",
   "metadata": {},
   "source": [
    "Here I'm trying to make a new variable `third_character` by appending the\n",
    "string `\"Carter\"` to the string `\"Peggy \"`, to get the value `\"Peggy Carter\"`,\n",
    "but there are some mistakes.  Fix the mistakes."
   ]
  },
  {
   "cell_type": "code",
   "execution_count": null,
   "id": "a987b280",
   "metadata": {},
   "outputs": [],
   "source": [
    "\"third_character\" = Peggy + Carter\n",
    "# Display the result\n",
    "third_character"
   ]
  },
  {
   "cell_type": "code",
   "execution_count": null,
   "id": "2c776b52",
   "metadata": {},
   "outputs": [],
   "source": [
    "_ = ok.grade('q_peggy_carter')"
   ]
  },
  {
   "cell_type": "markdown",
   "id": "cd10fef2",
   "metadata": {},
   "source": [
    "In an [alternative\n",
    "universe](https://en.wikipedia.org/wiki/Alternative_versions_of_Captain_America#Civil_War),\n",
    "our own Captain America has become General America.  Use string methods to\n",
    "substitute \"General\" for \"Captain\" in `another_character`:"
   ]
  },
  {
   "cell_type": "code",
   "execution_count": null,
   "id": "0d6c3552",
   "metadata": {},
   "outputs": [],
   "source": [
    "#- Edit the line below to do the substitution.\n",
    "alternative_character = another_character...\n",
    "# Display the result\n",
    "alternative_character"
   ]
  },
  {
   "cell_type": "code",
   "execution_count": null,
   "id": "d6b9b132",
   "metadata": {},
   "outputs": [],
   "source": [
    "_ = ok.grade('q_gen_america')"
   ]
  },
  {
   "cell_type": "markdown",
   "id": "696ddbaa",
   "metadata": {},
   "source": [
    "## Liking people who like foreigners\n",
    "\n",
    "As everybody now knows, the word for someone who does not like foreigners is\n",
    "[xenophobe](https://en.wikipedia.org/wiki/Xenophobia). It comes from Greek,\n",
    "where \"xenos\" means a stranger or foreigner and \"phobos\" is fear.\n",
    "\n",
    "Similarly, if you like foreigners, you can be a\n",
    "[xenophile](https://en.wikipedia.org/wiki/Xenophilia), where \"philia\" in Greek\n",
    "means love or attraction.\n",
    "\n",
    "Or you could be afraid of people who are afraid of foreigners.  Then you would\n",
    "be a \"xenophobophobe\".  Or you could like people who like foreigners, and be a\n",
    "\"xenophilophile\".\n",
    "\n",
    "Because \"xenophobophobe\" is such a useful word, we will put it in its own\n",
    "variable:"
   ]
  },
  {
   "cell_type": "code",
   "execution_count": null,
   "id": "41d8b612",
   "metadata": {},
   "outputs": [],
   "source": [
    "fears_who_fears = \"xenophobophobe\""
   ]
  },
  {
   "cell_type": "markdown",
   "id": "dccc145f",
   "metadata": {},
   "source": [
    "Use your `replace` skills to turn \"xenophobophobe\" to \"xenophilophile\".  For\n",
    "this question, and the ones below, try and find the smallest bit of text that\n",
    "you can replace."
   ]
  },
  {
   "cell_type": "code",
   "execution_count": null,
   "id": "97fd8091",
   "metadata": {},
   "outputs": [],
   "source": [
    "likes_who_likes = fears_who_fears...\n",
    "likes_who_likes"
   ]
  },
  {
   "cell_type": "markdown",
   "id": "ecb06677",
   "metadata": {},
   "source": [
    "But you might have a darker side.  Perhaps you like people who dislike\n",
    "foreigners.  That would be a \"xenophobophile\".   Make that word, using\n",
    "`replace`."
   ]
  },
  {
   "cell_type": "code",
   "execution_count": null,
   "id": "1a2f1ce3",
   "metadata": {},
   "outputs": [],
   "source": [
    "likes_who_dislikes = fears_who_fears....\n",
    "likes_who_dislikes"
   ]
  },
  {
   "cell_type": "markdown",
   "id": "236d3167",
   "metadata": {},
   "source": [
    "Use replace on `likes_who_dislikes` above to get \"xenophilophobe\" - someone who\n",
    "is afraid of people who like strangers."
   ]
  },
  {
   "cell_type": "code",
   "execution_count": null,
   "id": "8f4111f6",
   "metadata": {},
   "outputs": [],
   "source": [
    "dislikes_who_likes = likes_who_dislikes...\n",
    "dislikes_who_likes"
   ]
  },
  {
   "cell_type": "markdown",
   "id": "1a523137",
   "metadata": {},
   "source": [
    "## The end of the beginning\n",
    "\n",
    "You're done with this assignment!\n",
    "\n",
    "Be sure to run the tests and verify that they all pass, then choose **Save and\n",
    "Checkpoint** from the **File** menu.\n",
    "\n",
    "You can run the cell below to run all the tests in one go."
   ]
  },
  {
   "cell_type": "code",
   "execution_count": null,
   "id": "0c5d0d90",
   "metadata": {},
   "outputs": [],
   "source": [
    "# For your convenience, you can run this cell to run all the tests at once!\n",
    "import os\n",
    "_ = [ok.grade(q[:-3]) for q in os.listdir(\"tests\") if q.startswith('q')]"
   ]
  }
 ],
 "metadata": {
  "jupytext": {
   "split_at_heading": true,
   "text_representation": {
    "extension": ".Rmd",
    "format_name": "rmarkdown",
    "format_version": "1.2",
    "jupytext_version": "1.10.3"
   }
  },
  "kernelspec": {
   "display_name": "Python 3 (ipykernel)",
   "language": "python",
   "name": "python3"
  }
 },
 "nbformat": 4,
 "nbformat_minor": 5
}
